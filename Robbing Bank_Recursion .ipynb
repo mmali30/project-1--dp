{
 "cells": [
  {
   "cell_type": "code",
   "execution_count": null,
   "id": "d40a97f1",
   "metadata": {},
   "outputs": [],
   "source": [
    "#Recursion - Divide & Conquer ==> O(N**2)"
   ]
  },
  {
   "cell_type": "code",
   "execution_count": null,
   "id": "ab068607",
   "metadata": {},
   "outputs": [],
   "source": [
    "int robank(timei, money, time, N):\n",
    "    \n",
    "#base case:\n",
    "    if N == 0 or time == 0: #if there are no banks or the time is zero because there is no time left to rob, return zero\n",
    "        return 0 \n",
    "    \n",
    "#skip bank entirely:\n",
    "\n",
    "    if timei > time:   #it's going to take more than 24h to rob this bank\n",
    "        return robank (timei, money, time, N-1)\n",
    "\n",
    "    \n",
    "#include or exclude by picking the maximum profit one\n",
    "\n",
    "    else: \n",
    "        return max (robank(timei, money, time, N-1), profit[N] + robank(timei, money, time-timei(N), N-1))\n",
    "    \n",
    "    \n",
    "    "
   ]
  },
  {
   "cell_type": "code",
   "execution_count": null,
   "id": "bd79bada",
   "metadata": {},
   "outputs": [],
   "source": [
    "int robank(int timei, int money, int time, int N):\n",
    "    \n",
    "#base case:\n",
    "    if N == 0 or time == 0: #if there are no banks or the time is zero because there is no time left to rob, return zero\n",
    "        return 0 \n",
    "    \n",
    "#skip bank entirely:\n",
    "\n",
    "    if timei [N-1] > time:   #it's going to take more than 24h to rob this bank\n",
    "        return robank (time, timei, money, N-1)\n",
    "\n",
    "    \n",
    "#include or exclude by picking the maximum profit one\n",
    "    left_side = (robank(time, timei, money, N-1)\n",
    "                 \n",
    "    \n",
    "    right_side = (money[N-1])\n",
    "                 + robank(time-timei(N-1), timei, money, N-1)\n",
    "   \n",
    "      \n",
    "    "
   ]
  },
  {
   "cell_type": "code",
   "execution_count": null,
   "id": "c03fc585",
   "metadata": {},
   "outputs": [],
   "source": []
  },
  {
   "cell_type": "code",
   "execution_count": null,
   "id": "83214bc7",
   "metadata": {},
   "outputs": [],
   "source": [
    "#Dynamic Programming - O(N*time)"
   ]
  },
  {
   "cell_type": "code",
   "execution_count": null,
   "id": "dac2f452",
   "metadata": {},
   "outputs": [],
   "source": [
    "# for (i => 0 to N-1) #banks\n",
    "# for (j => 0 to time)"
   ]
  },
  {
   "cell_type": "code",
   "execution_count": 2,
   "id": "c7df1ef6",
   "metadata": {},
   "outputs": [
    {
     "data": {
      "text/plain": [
       "148000"
      ]
     },
     "execution_count": 2,
     "metadata": {},
     "output_type": "execute_result"
    }
   ],
   "source": [
    "\n",
    "\n",
    "time = 24\n",
    "\n",
    "money = [54400, 75100, 18500, 33900, 2400]\n",
    "\n",
    "timei = [12, 5, 3, 8, 9]  #[0,000186, 0.000788, 0.000358, 0.000769, 0.001131]\n",
    "\n",
    "N = len(timei)\n",
    "\n",
    "\n",
    "def robank(timei, money, time, N):\n",
    "    \n",
    "    dp = [[0 for j in range(time+1)] for i in range(N+1)]  #+1 because need to consider base case\n",
    "\n",
    "    for i in range(1, N+1):\n",
    "        for j in range(time+1):\n",
    "            if timei[i-1] > j:    #rejecting timei entirely because it will take more than 24h  \n",
    "                dp[i][j] = dp[i-1][j]\n",
    "            else:\n",
    "                dp[i][j] = max(dp[i-1][j], money[i-1] + dp[i-1][j-timei[i-1]])\n",
    "    \n",
    "    return dp[N][time]\n",
    "\n",
    "robank(timei, money, time, N)"
   ]
  },
  {
   "cell_type": "code",
   "execution_count": null,
   "id": "91454676",
   "metadata": {},
   "outputs": [],
   "source": []
  }
 ],
 "metadata": {
  "kernelspec": {
   "display_name": "Python 3 (ipykernel)",
   "language": "python",
   "name": "python3"
  },
  "language_info": {
   "codemirror_mode": {
    "name": "ipython",
    "version": 3
   },
   "file_extension": ".py",
   "mimetype": "text/x-python",
   "name": "python",
   "nbconvert_exporter": "python",
   "pygments_lexer": "ipython3",
   "version": "3.9.7"
  }
 },
 "nbformat": 4,
 "nbformat_minor": 5
}
